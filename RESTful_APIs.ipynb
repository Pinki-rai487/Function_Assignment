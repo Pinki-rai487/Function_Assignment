{
  "nbformat": 4,
  "nbformat_minor": 0,
  "metadata": {
    "colab": {
      "provenance": []
    },
    "kernelspec": {
      "name": "python3",
      "display_name": "Python 3"
    },
    "language_info": {
      "name": "python"
    }
  },
  "cells": [
    {
      "cell_type": "markdown",
      "source": [
        "# **THEORETICAL**"
      ],
      "metadata": {
        "id": "s9UVpfurLlth"
      }
    },
    {
      "cell_type": "markdown",
      "source": [
        "1.   What is a RESTful API ?\n",
        "\n",
        "ans>  stands for REpresentational State Transfer API. It is a type of API (Application Programming Interface) that allows communication between different systems over the internet. REST APIs work by sending requests and receiving responses, typically in JSON format, between the client and server."
      ],
      "metadata": {
        "id": "Kc4I4UznLvL2"
      }
    },
    {
      "cell_type": "markdown",
      "source": [
        "2.  Explain the concept of API specification ?\n",
        "\n",
        "ans> The API specification provides a comprehensive understanding of how an API behaves and links with other APIs. It also explains how the API functions and the results to expect when using the API."
      ],
      "metadata": {
        "id": "kmdXa2FeLvPQ"
      }
    },
    {
      "cell_type": "markdown",
      "source": [
        "3. What is Flask, and why is it popular for building APIs ?\n",
        "\n",
        "ans> Flask is a micro web framework for Python that's designed to make building web applications simpler and more straightforward. It's lightweight, flexible, and perfect for developers who want to get things done without a lot of fuss.\n",
        "\n",
        "It is popular for building APIs as :\n",
        "\n",
        "1. it's designed to be small and simple, focusing on the core features needed to build web applications. Unlike larger frameworks that come with a lot of built-in features, Flask gives you the basics and lets you add only what you need.\n",
        "2. Routing and veiws\n",
        "3. Templates: make things look good\n",
        "\n",
        "\n"
      ],
      "metadata": {
        "id": "6Y4hZHjkLvSs"
      }
    },
    {
      "cell_type": "markdown",
      "source": [
        "4.   What is routing in Flask ?\n",
        "\n",
        "ans> routing means mapping the URLs to a specific function that will handle the logic for that URL. Modern web frameworks use more meaningful URLs to help users remember the URLs and make navigation simpler.\n",
        "\n"
      ],
      "metadata": {
        "id": "550uNN7dLvVK"
      }
    },
    {
      "cell_type": "markdown",
      "source": [
        "5. How do you create a simple Flask application ?\n",
        "\n",
        "ans> 1. Create Project Folder\n",
        "\n",
        "— — 1.1 Open Project Folder in Visual Studio Code\n",
        "\n",
        "2. Setup Python Virtual Environment\n",
        "3. Install Flask\n",
        "4. Install Dependencies\n",
        "\n",
        "— — 4.1 Set environment variables\n",
        "\n",
        "5. Create Flask Entry File\n",
        "\n",
        "— — 5.1 Import flask\n",
        "\n",
        "— — 5.2 Define flask object\n",
        "6. Create Routes\n",
        "7. Run Flask Application"
      ],
      "metadata": {
        "id": "CFc1Ei0dLvYD"
      }
    },
    {
      "cell_type": "markdown",
      "source": [
        "6. What are HTTP methods used in RESTful APIs ?\n",
        "\n"
      ],
      "metadata": {
        "id": "LjoUebpgLva-"
      }
    },
    {
      "cell_type": "markdown",
      "source": [
        "7. What is the purpose of the @app.route() decorator in Flask ?\n",
        "\n",
        "ans> app.route() is a decorator in Flask that maps URL paths to view functions. It's how Flask knows which function to execute when a specific URL is requested."
      ],
      "metadata": {
        "id": "PpC8qo-rLveX"
      }
    },
    {
      "cell_type": "markdown",
      "source": [
        "8.  What is the difference between GET and POST HTTP methods ?\n",
        "\n",
        "ans>  GET HTTP:\n",
        "    \n",
        "    * In GET method we can not send large amount of data rather limited data of some number of characters is sent because the request parameter is appended into the URL.\n",
        "    * GET request is comparatively better than Post so it is used more than the Post request.\n",
        "    * GET requests are only used to request data (not modify)\n",
        "    * GET request is comparatively less secure because the data is exposed in the URL bar.\tPOST request is comparatively more secure because the data is not exposed in the URL bar.\n",
        "    * Request made through GET method are stored in Browser history.\n",
        "\n",
        "    POST HTTP:\n",
        "\n",
        "    * n POST method large amount of data can be sent because the request parameter is appended into the body.\n",
        "    * POST request is comparatively less better than Get method, so it is used less than the Get request.\n",
        "    * POST requests can be used to create and modify data.\n",
        "    * POST request is comparatively more secure because the data is not exposed in the URL bar.\n",
        "    * Request made through POST method is not stored in Browser history."
      ],
      "metadata": {
        "id": "Od_-OYzpMhF4"
      }
    },
    {
      "cell_type": "markdown",
      "source": [
        "9. How do you handle errors in Flask APIs ?\n",
        "\n",
        "ans>\n",
        " handling errors:\n",
        "      1. using @app.errorhandler\n",
        "\n",
        "      2. raising Built-in Exceptions/Custom Exceptions\n",
        "\n",
        "      3. returning proper HTTP\n",
        "      \n",
        "      4. using try... except"
      ],
      "metadata": {
        "id": "RfUkF8ibMhIj"
      }
    },
    {
      "cell_type": "markdown",
      "source": [
        "10.  How do you connect Flask to a SQL database ?\n",
        "\n",
        "ans>  It involves using an ORM ( Object - Relational Mapper)Like Flask-SQLAlchemy\n",
        "1. create database models\n",
        "2. create database tables\n",
        "3. perform CRUD operations\n",
        "\n",
        ""
      ],
      "metadata": {
        "id": "WzkVxWVQMhLI"
      }
    },
    {
      "cell_type": "markdown",
      "source": [
        "11. What is the role of Flask-SQLAlchemy ?\n",
        "\n",
        " ans> Its role is to integrate with Flask and abstract over different database systems."
      ],
      "metadata": {
        "id": "W6DeCQiSMhPD"
      }
    },
    {
      "cell_type": "markdown",
      "source": [
        "12. What are Flask blueprints, and how are they useful ?\n",
        "\n",
        "ans> Blueprints in Flask help you organize your application into modular, reusable components. They let you group related routes, templates, and static files together, which is especially useful for large projects. With blueprints, you can develop, test, and maintain different parts of your app separately, and then register them with your main application.\n",
        "\n",
        "It is useful, Besides code organization, there’s another advantage to structuring your Flask application as a collection of independent components. You can reuse these components even across different application\n",
        ""
      ],
      "metadata": {
        "id": "I_ZSTUrwMhRY"
      }
    },
    {
      "cell_type": "markdown",
      "source": [
        "13. What is the purpose of Flask's request object ?\n",
        "\n",
        "ans> The Request, in Flask, is an object that contains all the data sent from the Client to Server. This data can be recovered using the GET/POST Methods."
      ],
      "metadata": {
        "id": "8fm2kMTVMhUy"
      }
    },
    {
      "cell_type": "markdown",
      "source": [
        "14. How do you create a RESTful API endpoint using Flask  ?\n",
        "\n",
        "ans>  we can create it using CRUD operations. GET, POST,UPDATE & DELETE."
      ],
      "metadata": {
        "id": "QyobLSvaMhX-"
      }
    },
    {
      "cell_type": "markdown",
      "source": [
        "15.   What is the purpose of Flask's jsonify() function ?\n",
        "\n",
        "ans> jsonify() is a built-in Flask function that converts Python dictionaries and objects into JSON response objects."
      ],
      "metadata": {
        "id": "lcYYHdosM8QH"
      }
    },
    {
      "cell_type": "markdown",
      "source": [
        "16. Explain Flask’s url_for() function ?\n",
        "\n",
        "ans>  The url_for() method, is used to prepare a URL, for a function dynamically, such that, changing URLs, in the application, is avoided. It accepts, the name of the view function, as the first argument, and, any number of keywords, to be sent(to the view function), as the second argument."
      ],
      "metadata": {
        "id": "UpWnlP4nM8UP"
      }
    },
    {
      "cell_type": "markdown",
      "source": [
        "17.  How does Flask handle static files (CSS, JavaScript, etc.) ?\n",
        "\n",
        "ans> In Flask, static files refer to files such as CSS, JavaScript, images, videos, and audio files that do not change dynamically. Flask provides a built-in way to serve these static files using the /static directory.\n",
        "Provides certain structure for each kind of subject."
      ],
      "metadata": {
        "id": "MuPWSI2aM8Y2"
      }
    },
    {
      "cell_type": "markdown",
      "source": [
        "18.  What is an API specification, and how does it help in building a Flask API ?\n",
        "\n",
        "ans> It is used to standardize data exchange between web services. Standardize means the ability of diverse systems, written in different programming languages, to run on different operating systems, or use various technologies to communicate.\n",
        "\n",
        "It helps in building a Flask API in many ways:\n",
        "1. Design and Planning\n",
        "2. code generation\n",
        "3. Automation Documentation\n",
        "4. Validation and error Handling\n",
        "5. Testing and Mocking\n"
      ],
      "metadata": {
        "id": "--0Bcjp_M8bn"
      }
    },
    {
      "cell_type": "markdown",
      "source": [
        "19.  What are HTTP status codes, and why are they important in a Flask API  ?\n",
        "\n",
        "ans> HTTP status codes are thre-digit numbers returned by a server in response to an HTTP request made by a client. They indicate the utcome of the request and provide information about the result of the requested operation.\n",
        "* 200 - ok\n",
        "* 201 - Created\n",
        "* 204 - No content\n",
        "* 206 - Partial Content\n",
        "* 400 - Bad Request\n",
        "* 404 - Not found\n",
        "* 401 Unauthorized\n",
        "\n",
        "Importance of them in Flask API is : Clear communication, Error handling and Debugging, API consistency and usability, Caching and performance, Maintability and Scalability.\n"
      ],
      "metadata": {
        "id": "yn0Tctz9M8ec"
      }
    },
    {
      "cell_type": "markdown",
      "source": [
        "20. How do you handle POST requests in Flask ?\n",
        "\n",
        "ans> It involves defining routes that specifically accept the POST method and then accessing the data sent in the request. defining the routes with the methods = ['POST'].\n"
      ],
      "metadata": {
        "id": "pn_4C3FQM8hy"
      }
    },
    {
      "cell_type": "markdown",
      "source": [
        "21.  How would you secure a Flask API ?\n",
        "\n",
        " ans>\n",
        " * Through Authentication and Authorization:\n",
        "  \n",
        "  Token-based authentication, API keys, Oauth/OpenID connect.\n",
        "\n",
        " * Data Protection:\n",
        "\n",
        " using HTTP to encrypt data, input validation and sanitization.\n",
        "\n",
        ""
      ],
      "metadata": {
        "id": "H07a6ZyAM8j0"
      }
    },
    {
      "cell_type": "markdown",
      "source": [
        "22. What is the significance of the Flask-RESTful extension ?\n",
        "\n",
        "ans> Significance of Flask-RESTful extension:\n",
        "\n",
        "* Simplifies API Development – Provides a cleaner and more structured approach.\n",
        "* Automatic Request Parsing – Built-in support for handling request arguments.\n",
        "* Better Resource Management – Uses classes to define API resources.\n",
        "* Response Formatting – Automatically formats responses in JSON.\n",
        "* Integrated Error Handling – Provides built-in exception handling for common errors."
      ],
      "metadata": {
        "id": "PZcWdoesM8m1"
      }
    },
    {
      "cell_type": "markdown",
      "source": [
        "23.  What is the role of Flask’s session object?\n",
        "\n",
        "ans> essions in Flask store user-specific data across requests, like login status, using cookies. Data is stored on the client side but signed with a secret key to ensure security. They help maintain user sessions without requiring constant authentication."
      ],
      "metadata": {
        "id": "hIfVFwOIM8qP"
      }
    },
    {
      "cell_type": "markdown",
      "source": [
        "# **PRACTICAL**"
      ],
      "metadata": {
        "id": "mC0jWXI0aF1G"
      }
    },
    {
      "cell_type": "code",
      "source": [
        "#1 How do you create a basic Flask application ?\n",
        "\n",
        "from flask import Flask\n",
        "\n",
        "app = Flask(__name__)\n",
        "\n",
        "@app.route('/')\n",
        "def introduction():\n",
        "    return 'Hii Everyone'\n",
        "\n",
        "if __name__ == '__main__':\n",
        "    app.run()"
      ],
      "metadata": {
        "id": "d8gtSwLzaIj5"
      },
      "execution_count": null,
      "outputs": []
    },
    {
      "cell_type": "code",
      "source": [
        "#2  How do you serve static files like images or CSS in Flask ?\n",
        "\n",
        "from flask import Flask, send_from_directory\n",
        "\n",
        "app = Flask(__name__)\n",
        "\n",
        "@app.route('/static/<path:filename>')\n",
        "def serve_static(filename):\n",
        "    return send_from_directory('static', filename)\n",
        "\n"
      ],
      "metadata": {
        "id": "cEd_nAPvaInb"
      },
      "execution_count": 1,
      "outputs": []
    },
    {
      "cell_type": "code",
      "source": [
        "#3 How do you define different routes with different HTTP methods in Flask ?\n",
        "\n",
        "from flask import Flask, request\n",
        "\n",
        "app = Flask(__name__)\n",
        "\n",
        "@app.route('/')\n",
        "def home():\n",
        "  return \"Hello World\"\n",
        "@app.route('/about')\n",
        "def about():\n",
        "  return \" This is abut page\"\n",
        "@app.route('/data')\n",
        "def data():\n",
        "  return \"This is data page\"\n",
        "\n",
        "\n",
        "if __name__ == '__main__':\n",
        "    app.run()\n"
      ],
      "metadata": {
        "colab": {
          "base_uri": "https://localhost:8080/"
        },
        "id": "A5cYVO3DaIqa",
        "outputId": "82fe7529-670b-4e79-fde7-f0126f1b2755"
      },
      "execution_count": 2,
      "outputs": [
        {
          "output_type": "stream",
          "name": "stdout",
          "text": [
            " * Serving Flask app '__main__'\n",
            " * Debug mode: off\n"
          ]
        },
        {
          "output_type": "stream",
          "name": "stderr",
          "text": [
            "INFO:werkzeug:\u001b[31m\u001b[1mWARNING: This is a development server. Do not use it in a production deployment. Use a production WSGI server instead.\u001b[0m\n",
            " * Running on http://127.0.0.1:5000\n",
            "INFO:werkzeug:\u001b[33mPress CTRL+C to quit\u001b[0m\n"
          ]
        }
      ]
    },
    {
      "cell_type": "code",
      "source": [
        "#4  How do you render HTML templates in Flask ?\n",
        "\n",
        "from flask import Flask, render_template\n",
        "\n",
        "app = Flask(__name__)\n",
        "\n",
        "@app.route('/')\n",
        "def home():\n",
        "  return render_template('index.html')\n",
        "\n",
        "if __name__ == '__main__':\n",
        "    app.run()"
      ],
      "metadata": {
        "id": "a29w_R0VaIts"
      },
      "execution_count": null,
      "outputs": []
    },
    {
      "cell_type": "code",
      "source": [
        "#5   How can you generate URLs for routes in Flask using url_for ?\n",
        "\n",
        "from flask import Flask, url_for\n",
        "\n",
        "app = Flask(__name__)\n",
        "\n",
        "@app.route('/')\n",
        "def home():\n",
        "    return 'This is the home page. Go to the about page.'\n",
        "\n",
        "@app.route('/about')\n",
        "def about():\n",
        "    return 'This is the about page. Go to the home page.'\n",
        "\n",
        "@app.route('/user/<username>')\n",
        "def show_user_profile(username):\n",
        "    return f'User: {username}'\n",
        "\n",
        "with app.test_request_context():\n",
        "    # Generate URLs\n",
        "    home_url = url_for('home')\n",
        "    about_url = url_for('about')\n",
        "    user_url = url_for('show_user_profile', username='JohnDoe')\n",
        "\n",
        "    print(f\"Home URL: {home_url}\")\n",
        "    print(f\"About URL: {about_url}\")\n",
        "    print(f\"User URL: {user_url}\")\n",
        "\n",
        "if __name__ == '__main__':\n",
        "    app.run(debug=True)\n"
      ],
      "metadata": {
        "id": "MDWZYvo_aIxD"
      },
      "execution_count": null,
      "outputs": []
    },
    {
      "cell_type": "code",
      "source": [
        "#6 How do you handle forms in Flask ?\n",
        "\n",
        "from flask import Flask, render_template, request\n",
        "\n",
        "app = Flask(__name__)\n",
        "\n",
        "@app.route('/')\n",
        "def home():\n",
        "    return render_template('form.html')\n",
        "@app.route('/submit', methods=['POST'])\n",
        "def submit():\n",
        "    if request.method == 'POST':\n",
        "        name = request.form['name']\n",
        "        email = request.form['email']\n",
        "        message = request.form['message']\n",
        "    else:\n",
        "        name = None\n",
        "        email = None\n",
        "        message = None\n",
        "    return render_template('form.html', name=name, email=email, message=message)\n",
        "\n",
        "if __name__ == '__main__':\n",
        "    app.run()"
      ],
      "metadata": {
        "id": "xCoZO9ZmaI0g"
      },
      "execution_count": null,
      "outputs": []
    },
    {
      "cell_type": "code",
      "source": [
        "#7 How can you validate form data in Flask ?\n",
        "\n",
        "from flask import Flask, render_template, request\n",
        "\n",
        "app = Flask(__name__)\n",
        "\n",
        "@app.route('/')\n",
        "def home():\n",
        "    return render_template('form_with_validation.html')\n",
        "\n",
        "@app.route('/submit', methods=['POST'])\n",
        "def submit():\n",
        "    if request.method == 'POST':\n",
        "        name = request.form['name']\n",
        "        email = request.form['email']\n",
        "        message = request.form['message']\n",
        "        errors = {}\n",
        "\n",
        "        if not name:\n",
        "            errors['name'] = 'Name is required.'\n",
        "        if not email:\n",
        "            errors['email'] = 'Email is required.'\n",
        "\n",
        "        if errors:\n",
        "            return render_template('form_with_validation.html', errors=errors, name=name, email=email, message=message)\n",
        "        else:\n",
        "            return f'Thank you, {name}! Your message has been received.'\n",
        "\n",
        "    return render_template('form_with_validation.html')\n",
        "\n",
        "if __name__ == '__main__':\n",
        "    app.run(debug=True)\n"
      ],
      "metadata": {
        "id": "-YI-jKFeaI3E"
      },
      "execution_count": null,
      "outputs": []
    },
    {
      "cell_type": "code",
      "source": [
        "#8 How do you manage sessions in Flask ?\n",
        "\n",
        "from flask import Flask, session, redirect, url_for\n",
        "\n",
        "app = Flask(__name__)\n",
        "\n",
        "app.secret_key = 'your_secret_key'\n",
        "\n",
        "@app.route('/')\n",
        "def home():\n",
        "    return 'This is the home page.'\n",
        "\n",
        "@app.route('/login')\n",
        "def login():\n",
        "    session['username'] = 'JohnDoe'\n",
        "    return redirect(url_for('dashboard'))\n",
        "\n",
        "@app.route('/dashboard')\n",
        "def dashboard():\n",
        "    if 'username' in session:\n",
        "        username = session['username']\n",
        "        return f'Welcome, {username}! This is the dashboard.'\n",
        "    else:\n",
        "        return redirect(url_for('login'))\n",
        "\n",
        "@app.route('/logout')\n",
        "def logout():\n",
        "    session.pop('username', None)\n",
        "    return redirect(url_for('home'))\n",
        "\n",
        "if __name__ == '__main__':\n",
        "    app.run(debug=True)"
      ],
      "metadata": {
        "colab": {
          "base_uri": "https://localhost:8080/"
        },
        "id": "aCQBg2HZaI6l",
        "outputId": "aa8dc121-1098-4518-b6bc-98f7b149e536"
      },
      "execution_count": 3,
      "outputs": [
        {
          "output_type": "stream",
          "name": "stdout",
          "text": [
            " * Serving Flask app '__main__'\n",
            " * Debug mode: on\n"
          ]
        },
        {
          "output_type": "stream",
          "name": "stderr",
          "text": [
            "INFO:werkzeug:\u001b[31m\u001b[1mWARNING: This is a development server. Do not use it in a production deployment. Use a production WSGI server instead.\u001b[0m\n",
            " * Running on http://127.0.0.1:5000\n",
            "INFO:werkzeug:\u001b[33mPress CTRL+C to quit\u001b[0m\n",
            "INFO:werkzeug: * Restarting with stat\n"
          ]
        }
      ]
    },
    {
      "cell_type": "code",
      "metadata": {
        "id": "d34b2708"
      },
      "source": [
        "#9 How do you redirect to a different route in Flask ?\n",
        "\n",
        "from flask import Flask, redirect, url_for\n",
        "\n",
        "app = Flask(__name__)\n",
        "\n",
        "@app.route('/')\n",
        "def home():\n",
        "    return 'This is the home page.'\n",
        "\n",
        "@app.route('/about')\n",
        "def about():\n",
        "    return 'This is the about page.'\n",
        "\n",
        "@app.route('/redirect')\n",
        "def redirect_to_about():\n",
        "    return redirect(url_for('about'))"
      ],
      "execution_count": null,
      "outputs": []
    },
    {
      "cell_type": "code",
      "source": [
        "#10 How do you handle errors in Flask (e.g., 404) ?\n",
        "\n",
        "from flask import Flask, render_template, request, redirect, url_for\n",
        "\n",
        "app = Flask(__name__)\n",
        "\n",
        "@app.route('/')\n",
        "def home():\n",
        "    return 'This is the home page.'\n",
        "\n",
        "@app.route('/login', methods=['GET', 'POST'])\n",
        "def login():\n",
        "    if request.method == 'POST':\n",
        "        username = request.form['username']\n",
        "        password = request.form['password']\n",
        "\n",
        "@app.errorhandler(404)\n",
        "def page_not_found(error):\n",
        "    return render_template('404.html'), 404\n",
        "\n",
        "if __name__ == '__main__':\n",
        "    app.run(debug=True)"
      ],
      "metadata": {
        "id": "StDSQ9Irg9bg"
      },
      "execution_count": null,
      "outputs": []
    },
    {
      "cell_type": "code",
      "source": [
        "\n"
      ],
      "metadata": {
        "id": "mqXDwDoRg9nV"
      },
      "execution_count": null,
      "outputs": []
    },
    {
      "cell_type": "code",
      "metadata": {
        "id": "7d03ab7e"
      },
      "source": [
        "#11 How do you structure a Flask app using Blueprints ?\n",
        "\n",
        "%%writefile my_blueprint.py\n",
        "from flask import Blueprint, render_template\n",
        "\n",
        "my_blueprint = Blueprint('my_blueprint', __name__)\n",
        "\n",
        "@my_blueprint.route('/')\n",
        "def index():\n",
        "    return 'This is the blueprint index page.'\n",
        "\n",
        "@my_blueprint.route('/hello')\n",
        "def hello():\n",
        "    return 'Hello from the blueprint!'"
      ],
      "execution_count": null,
      "outputs": []
    },
    {
      "cell_type": "markdown",
      "metadata": {
        "id": "0fe14348"
      },
      "source": [
        "Now, let's create the main application file, `app.py`, and register the blueprint."
      ]
    },
    {
      "cell_type": "code",
      "metadata": {
        "id": "335a0199"
      },
      "source": [
        "%%writefile app.py\n",
        "from flask import Flask\n",
        "from my_blueprint import my_blueprint\n",
        "\n",
        "app = Flask(__name__)\n",
        "\n",
        "# Register the blueprint\n",
        "app.register_blueprint(my_blueprint)\n",
        "\n",
        "@app.route('/app')\n",
        "def app_index():\n",
        "    return 'This is the main application index page.'\n",
        "\n",
        "if __name__ == '__main__':\n",
        "    app.run(debug=True)"
      ],
      "execution_count": null,
      "outputs": []
    },
    {
      "cell_type": "markdown",
      "metadata": {
        "id": "77897091"
      },
      "source": [
        "Now you can run the `app.py` file to see how the blueprint is integrated. You should be able to access routes defined in both the main app and the blueprint."
      ]
    },
    {
      "cell_type": "code",
      "metadata": {
        "colab": {
          "base_uri": "https://localhost:8080/"
        },
        "id": "1d22b6ba",
        "outputId": "d5b7141b-34ad-4f12-8d8c-379f35f736e5"
      },
      "source": [
        "!python app.py"
      ],
      "execution_count": 4,
      "outputs": [
        {
          "output_type": "stream",
          "name": "stdout",
          "text": [
            "python3: can't open file '/content/app.py': [Errno 2] No such file or directory\n"
          ]
        }
      ]
    },
    {
      "cell_type": "code",
      "source": [
        "#12  How do you define a custom Jinja filter in Flask ?\n",
        "\n",
        "%%writefile app.py\n",
        "from flask import Flask, render_template\n",
        "\n",
        "app = Flask(__name__)\n",
        "\n",
        "@app.template_filter('uppercase')\n",
        "def uppercase_filter(value):\n",
        "    return value.upper()\n",
        "\n",
        "@app.route('/')\n",
        "def index():\n",
        "    name = 'John Doe'\n",
        "    return render_template('index.html', name=name)\n",
        "\n",
        "if __name__ == '__main__':\n",
        "    app.run(debug=True)"
      ],
      "metadata": {
        "id": "0NhcJVD1g9u3"
      },
      "execution_count": null,
      "outputs": []
    },
    {
      "cell_type": "code",
      "source": [
        "#13  How can you redirect with query parameters in Flask ?\n",
        "\n",
        "from flask import Flask, redirect, url_for, request\n",
        "\n",
        "app = Flask(__name__)\n",
        "\n",
        "@app.route('/')\n",
        "def home():\n",
        "    return 'This is the home page.'\n",
        "\n",
        "@app.route('/search')\n",
        "def search():\n",
        "    query = request.args.get('q')\n",
        "\n",
        "@app.route('/redirect')\n",
        "def redirect_to_search():\n",
        "    query = 'example query'\n",
        "    return redirect(url_for('search', q=query))\n",
        "\n",
        "if __name__ == '__main__':\n",
        "    app.run(debug=True)"
      ],
      "metadata": {
        "id": "35KGzlO4g90F"
      },
      "execution_count": null,
      "outputs": []
    },
    {
      "cell_type": "code",
      "source": [
        "#14  How do you return JSON responses in Flask ?\n",
        "\n",
        "from flask import Flask, jsonify\n",
        "\n",
        "app = Flask(__name__)\n",
        "APIKEY = \"My API key\"\n",
        "URL= \"https://api.example.com\"\n",
        "@app.route('/api/data')\n",
        "def get_data():\n",
        "    data = {'message': 'This is JSON data.'}\n",
        "    return jsonify(data)\n",
        "\n",
        "if __name__ == '__main__':\n",
        "    app.run(debug=True)"
      ],
      "metadata": {
        "id": "9mtDzCvZg93j"
      },
      "execution_count": null,
      "outputs": []
    },
    {
      "cell_type": "code",
      "metadata": {
        "id": "c08fbcca"
      },
      "source": [
        "#15 How do you capture URL parameters in Flask?\n",
        "\n",
        "from flask import Flask, request\n",
        "\n",
        "app = Flask(__name__)\n",
        "\n",
        "@app.route('/user/<username>')\n",
        "def show_user_profile(username):\n",
        "    return f'User: {username}'\n",
        "\n",
        "if __name__ == '__main__':\n",
        "    app.run(debug=True)"
      ],
      "execution_count": null,
      "outputs": []
    }
  ]
}